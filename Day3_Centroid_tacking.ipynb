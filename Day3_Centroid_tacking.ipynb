{
 "cells": [
  {
   "cell_type": "markdown",
   "id": "f41cab01-5ce6-48de-831e-396f1b70baf2",
   "metadata": {},
   "source": [
    "# Centroid Tracking"
   ]
  },
  {
   "cell_type": "markdown",
   "id": "3daf25d2-db2c-4756-bd23-d575f6389f73",
   "metadata": {
    "execution": {
     "iopub.execute_input": "2024-02-13T12:35:15.907332Z",
     "iopub.status.busy": "2024-02-13T12:35:15.906450Z",
     "iopub.status.idle": "2024-02-13T12:35:15.916963Z",
     "shell.execute_reply": "2024-02-13T12:35:15.914799Z",
     "shell.execute_reply.started": "2024-02-13T12:35:15.907234Z"
    },
    "tags": []
   },
   "source": [
    "### In this exercise we will be using numpy arrays (a type of data structure in python) to visualize the movement of a fish."
   ]
  },
  {
   "cell_type": "markdown",
   "id": "dd131f13-3805-4b93-9cb8-4a6b395de089",
   "metadata": {
    "execution": {
     "iopub.execute_input": "2024-02-13T12:52:26.426485Z",
     "iopub.status.busy": "2024-02-13T12:52:26.425585Z",
     "iopub.status.idle": "2024-02-13T12:52:26.439948Z",
     "shell.execute_reply": "2024-02-13T12:52:26.436906Z",
     "shell.execute_reply.started": "2024-02-13T12:52:26.426415Z"
    },
    "tags": []
   },
   "source": [
    "<br>"
   ]
  },
  {
   "cell_type": "markdown",
   "id": "a828a524-e21f-4fc2-9fdd-c4ed3023dc9f",
   "metadata": {
    "execution": {
     "iopub.execute_input": "2024-02-13T12:36:15.608881Z",
     "iopub.status.busy": "2024-02-13T12:36:15.608064Z",
     "iopub.status.idle": "2024-02-13T12:36:15.618045Z",
     "shell.execute_reply": "2024-02-13T12:36:15.615757Z",
     "shell.execute_reply.started": "2024-02-13T12:36:15.608814Z"
    },
    "tags": []
   },
   "source": [
    "### Select the cell below and press CTRL + Enter to import the libraries that we will need in for this exercise "
   ]
  },
  {
   "cell_type": "code",
   "execution_count": 1,
   "id": "4c58ea9f-96c2-410a-a7a1-472cd27e6fc4",
   "metadata": {
    "execution": {
     "iopub.execute_input": "2024-02-25T15:37:30.224078Z",
     "iopub.status.busy": "2024-02-25T15:37:30.221178Z",
     "iopub.status.idle": "2024-02-25T15:37:31.656352Z",
     "shell.execute_reply": "2024-02-25T15:37:31.654852Z",
     "shell.execute_reply.started": "2024-02-25T15:37:30.223980Z"
    },
    "tags": []
   },
   "outputs": [],
   "source": [
    "import numpy as np                   # This imports the library numpy, which is used for numerical operations and mathematical computations. It allows you to handle multi-dimensional arrays and matrices in python and perform several of mathematical functions.\n",
    "import matplotlib.pyplot as plt      # This line imports Matplotlib, which is a widely used  library for creating visualizations in python.\n",
    "from scipy.signal import find_peaks  "
   ]
  },
  {
   "cell_type": "markdown",
   "id": "e67ff078-b430-4b7f-b4fa-8ef2538915bf",
   "metadata": {
    "execution": {
     "iopub.execute_input": "2024-02-14T10:39:49.748736Z",
     "iopub.status.busy": "2024-02-14T10:39:49.747910Z",
     "iopub.status.idle": "2024-02-14T10:39:49.761563Z",
     "shell.execute_reply": "2024-02-14T10:39:49.758633Z",
     "shell.execute_reply.started": "2024-02-14T10:39:49.748670Z"
    },
    "tags": []
   },
   "source": [
    "<br>"
   ]
  },
  {
   "cell_type": "markdown",
   "id": "978f9917-23b1-4c22-ac0a-e6b3f06db10a",
   "metadata": {},
   "source": [
    "<br>"
   ]
  },
  {
   "cell_type": "markdown",
   "id": "1642fb5d-1ced-499b-bc70-0d4dd7eb193f",
   "metadata": {
    "execution": {
     "iopub.execute_input": "2024-02-13T12:40:29.192271Z",
     "iopub.status.busy": "2024-02-13T12:40:29.191201Z",
     "iopub.status.idle": "2024-02-13T12:40:29.202098Z",
     "shell.execute_reply": "2024-02-13T12:40:29.199903Z",
     "shell.execute_reply.started": "2024-02-13T12:40:29.192198Z"
    },
    "tags": []
   },
   "source": [
    "### 1: let's load some fish trajectories using numpy. Select the cell below and press CTRL + Enter to import the data we will be analyzing and save it as an object named 'fish_coordinates'. I wrote the code for you for this one."
   ]
  },
  {
   "cell_type": "code",
   "execution_count": 2,
   "id": "c3049359-8ce5-48de-ad51-959423341ad0",
   "metadata": {
    "execution": {
     "iopub.execute_input": "2024-02-25T15:37:36.995572Z",
     "iopub.status.busy": "2024-02-25T15:37:36.994372Z",
     "iopub.status.idle": "2024-02-25T15:37:37.094323Z",
     "shell.execute_reply": "2024-02-25T15:37:37.091158Z",
     "shell.execute_reply.started": "2024-02-25T15:37:36.995494Z"
    },
    "tags": []
   },
   "outputs": [],
   "source": [
    "fish_coordinates = np.load(\"/home/tracking_course/fish_coordinates_1.npy\")"
   ]
  },
  {
   "cell_type": "markdown",
   "id": "c19b6059-fb16-4d33-96da-8304979a418c",
   "metadata": {
    "execution": {
     "iopub.execute_input": "2024-02-14T10:39:45.507895Z",
     "iopub.status.busy": "2024-02-14T10:39:45.507001Z",
     "iopub.status.idle": "2024-02-14T10:39:45.521066Z",
     "shell.execute_reply": "2024-02-14T10:39:45.518114Z",
     "shell.execute_reply.started": "2024-02-14T10:39:45.507824Z"
    },
    "tags": []
   },
   "source": [
    "<br>"
   ]
  },
  {
   "cell_type": "markdown",
   "id": "a29bc74e-eef8-45fb-b437-adcc7f4d376a",
   "metadata": {},
   "source": [
    "<br>"
   ]
  },
  {
   "cell_type": "markdown",
   "id": "c8521e6a-4101-4334-b2b6-63f88bd12e3f",
   "metadata": {
    "execution": {
     "iopub.execute_input": "2024-02-13T12:46:10.795796Z",
     "iopub.status.busy": "2024-02-13T12:46:10.794877Z",
     "iopub.status.idle": "2024-02-13T12:46:10.806802Z",
     "shell.execute_reply": "2024-02-13T12:46:10.803902Z",
     "shell.execute_reply.started": "2024-02-13T12:46:10.795683Z"
    },
    "tags": []
   },
   "source": [
    "### 2: In the cell below, type in 'fish_coordinates' and execute the cell. Do you get an output? What do you think this array and the numbers in it represent?"
   ]
  },
  {
   "cell_type": "markdown",
   "id": "0389450e-8050-4f01-a3c3-58722223a39e",
   "metadata": {
    "execution": {
     "iopub.execute_input": "2024-02-13T12:48:18.442180Z",
     "iopub.status.busy": "2024-02-13T12:48:18.441377Z",
     "iopub.status.idle": "2024-02-13T12:48:18.452469Z",
     "shell.execute_reply": "2024-02-13T12:48:18.449725Z",
     "shell.execute_reply.started": "2024-02-13T12:48:18.442113Z"
    },
    "tags": []
   },
   "source": [
    "##### Enter your code here:"
   ]
  },
  {
   "cell_type": "code",
   "execution_count": null,
   "id": "ca95906b-124b-4c56-a5b2-2e1b7e767747",
   "metadata": {
    "tags": []
   },
   "outputs": [],
   "source": []
  },
  {
   "cell_type": "markdown",
   "id": "018ea391-c5f6-40fe-a112-e3965e622175",
   "metadata": {
    "execution": {
     "iopub.execute_input": "2024-02-13T12:47:10.889401Z",
     "iopub.status.busy": "2024-02-13T12:47:10.888535Z",
     "iopub.status.idle": "2024-02-13T12:47:10.899061Z",
     "shell.execute_reply": "2024-02-13T12:47:10.896726Z",
     "shell.execute_reply.started": "2024-02-13T12:47:10.889333Z"
    },
    "tags": []
   },
   "source": [
    "##### Enter your answer here:"
   ]
  },
  {
   "cell_type": "markdown",
   "id": "c353c2bf-c0ac-4b1d-ba66-2df7e8e773aa",
   "metadata": {},
   "source": []
  },
  {
   "cell_type": "markdown",
   "id": "de8a992e-2482-4339-b540-93d63be24f12",
   "metadata": {
    "execution": {
     "iopub.execute_input": "2024-02-14T10:39:41.045960Z",
     "iopub.status.busy": "2024-02-14T10:39:41.045105Z",
     "iopub.status.idle": "2024-02-14T10:39:41.061448Z",
     "shell.execute_reply": "2024-02-14T10:39:41.058116Z",
     "shell.execute_reply.started": "2024-02-14T10:39:41.045863Z"
    },
    "tags": []
   },
   "source": [
    "<br>"
   ]
  },
  {
   "cell_type": "markdown",
   "id": "b39068d9-0836-4edc-992c-7bc647d17dfa",
   "metadata": {},
   "source": [
    "<br>"
   ]
  },
  {
   "cell_type": "markdown",
   "id": "5fee13fe-d5b1-4b6e-b826-6cd837f1dc31",
   "metadata": {
    "execution": {
     "iopub.execute_input": "2024-02-13T12:47:42.652902Z",
     "iopub.status.busy": "2024-02-13T12:47:42.649809Z",
     "iopub.status.idle": "2024-02-13T12:47:42.664410Z",
     "shell.execute_reply": "2024-02-13T12:47:42.661627Z",
     "shell.execute_reply.started": "2024-02-13T12:47:42.652813Z"
    },
    "tags": []
   },
   "source": [
    "### 3: You might have noticed the '...' in the middle of your fish_coordinates array. \n",
    "That means the array is too big to be visualized. Try adding the command '.shape' after fish_coordinates to see the dimensions of your array. How many rows and how many columns does the array have?\n"
   ]
  },
  {
   "cell_type": "markdown",
   "id": "27e51df5-92fb-48f0-91c6-0c6b79ff3842",
   "metadata": {
    "execution": {
     "iopub.execute_input": "2024-02-13T13:02:45.872976Z",
     "iopub.status.busy": "2024-02-13T13:02:45.871346Z",
     "iopub.status.idle": "2024-02-13T13:02:45.882418Z",
     "shell.execute_reply": "2024-02-13T13:02:45.879841Z",
     "shell.execute_reply.started": "2024-02-13T13:02:45.872899Z"
    },
    "tags": []
   },
   "source": [
    "##### Code:"
   ]
  },
  {
   "cell_type": "code",
   "execution_count": null,
   "id": "2b054f91-c1e3-4724-bce4-bd40d50b9eef",
   "metadata": {
    "tags": []
   },
   "outputs": [],
   "source": []
  },
  {
   "cell_type": "markdown",
   "id": "a0ef2f00-0064-4484-a62e-791819b19149",
   "metadata": {
    "execution": {
     "iopub.execute_input": "2024-02-13T13:03:08.765802Z",
     "iopub.status.busy": "2024-02-13T13:03:08.764897Z",
     "iopub.status.idle": "2024-02-13T13:03:08.776907Z",
     "shell.execute_reply": "2024-02-13T13:03:08.773686Z",
     "shell.execute_reply.started": "2024-02-13T13:03:08.765729Z"
    },
    "tags": []
   },
   "source": [
    "##### Answer:"
   ]
  },
  {
   "cell_type": "markdown",
   "id": "bceaf66f-5682-41bb-aae5-7e37d2bda8d9",
   "metadata": {},
   "source": []
  },
  {
   "cell_type": "markdown",
   "id": "e7041a9c-8888-438d-9077-3d7918c4ddef",
   "metadata": {
    "execution": {
     "iopub.execute_input": "2024-02-14T10:39:36.038305Z",
     "iopub.status.busy": "2024-02-14T10:39:36.037299Z",
     "iopub.status.idle": "2024-02-14T10:39:36.053118Z",
     "shell.execute_reply": "2024-02-14T10:39:36.050044Z",
     "shell.execute_reply.started": "2024-02-14T10:39:36.038236Z"
    },
    "tags": []
   },
   "source": [
    "<br>"
   ]
  },
  {
   "cell_type": "markdown",
   "id": "4df74282-5d65-4fc6-9e3f-5634b2ecfcb3",
   "metadata": {
    "execution": {
     "iopub.execute_input": "2024-02-13T13:03:17.981377Z",
     "iopub.status.busy": "2024-02-13T13:03:17.979682Z",
     "iopub.status.idle": "2024-02-13T13:03:17.993461Z",
     "shell.execute_reply": "2024-02-13T13:03:17.990972Z",
     "shell.execute_reply.started": "2024-02-13T13:03:17.981303Z"
    },
    "tags": []
   },
   "source": [
    "<br>"
   ]
  },
  {
   "cell_type": "markdown",
   "id": "684cc804-72ef-4520-b45c-9c5c092471bf",
   "metadata": {
    "execution": {
     "iopub.execute_input": "2024-02-14T10:26:57.146883Z",
     "iopub.status.busy": "2024-02-14T10:26:57.145883Z",
     "iopub.status.idle": "2024-02-14T10:26:57.165323Z",
     "shell.execute_reply": "2024-02-14T10:26:57.162334Z",
     "shell.execute_reply.started": "2024-02-14T10:26:57.146807Z"
    },
    "tags": []
   },
   "source": [
    "### 4: You can extract parts of your numpy arrays by using [] brackets\n",
    "f.e. fish_coordinates[0,0] returns the value stored in the first row and first column. fish_coordinates[0,:] returns all values stored in the first row. As you can see, indexing starts at 0.\n",
    "\n",
    "In the two cells below, write lines of code that returns all values in the first and second columns of your fish_coordinates array. (Bonus. Try adding .shape after the new arrays and check whether / how the dimensions changed)"
   ]
  },
  {
   "cell_type": "markdown",
   "id": "56864772-0631-4db9-8be1-b67c05cbda7e",
   "metadata": {
    "execution": {
     "iopub.execute_input": "2024-02-14T10:30:10.173787Z",
     "iopub.status.busy": "2024-02-14T10:30:10.171892Z",
     "iopub.status.idle": "2024-02-14T10:30:10.185722Z",
     "shell.execute_reply": "2024-02-14T10:30:10.183411Z",
     "shell.execute_reply.started": "2024-02-14T10:30:10.173727Z"
    },
    "tags": []
   },
   "source": [
    "##### Code to return all values in first colum:"
   ]
  },
  {
   "cell_type": "code",
   "execution_count": null,
   "id": "a0f415e2-f093-4a13-a196-54758c76407e",
   "metadata": {
    "tags": []
   },
   "outputs": [],
   "source": []
  },
  {
   "cell_type": "markdown",
   "id": "754a3757-3ba1-41ca-a09e-782e69f7a47e",
   "metadata": {
    "execution": {
     "iopub.execute_input": "2024-02-14T10:30:19.506780Z",
     "iopub.status.busy": "2024-02-14T10:30:19.505985Z",
     "iopub.status.idle": "2024-02-14T10:30:19.515365Z",
     "shell.execute_reply": "2024-02-14T10:30:19.513340Z",
     "shell.execute_reply.started": "2024-02-14T10:30:19.506712Z"
    },
    "tags": []
   },
   "source": [
    "##### Code to return all values in second colum:"
   ]
  },
  {
   "cell_type": "code",
   "execution_count": null,
   "id": "99b7caa5-f810-44e9-940d-a6a5778d0c47",
   "metadata": {
    "tags": []
   },
   "outputs": [],
   "source": []
  },
  {
   "cell_type": "markdown",
   "id": "c1fe02ed-b9b1-4404-8694-c0255fd3bdff",
   "metadata": {
    "execution": {
     "iopub.execute_input": "2024-02-14T10:39:31.445616Z",
     "iopub.status.busy": "2024-02-14T10:39:31.444587Z",
     "iopub.status.idle": "2024-02-14T10:39:31.458836Z",
     "shell.execute_reply": "2024-02-14T10:39:31.455992Z",
     "shell.execute_reply.started": "2024-02-14T10:39:31.445547Z"
    },
    "tags": []
   },
   "source": [
    "<br>"
   ]
  },
  {
   "cell_type": "markdown",
   "id": "19f665f0-f973-4f58-b2dc-2895390d6be8",
   "metadata": {
    "execution": {
     "iopub.execute_input": "2024-02-14T10:30:38.277284Z",
     "iopub.status.busy": "2024-02-14T10:30:38.275563Z",
     "iopub.status.idle": "2024-02-14T10:30:38.290355Z",
     "shell.execute_reply": "2024-02-14T10:30:38.287746Z",
     "shell.execute_reply.started": "2024-02-14T10:30:38.277212Z"
    },
    "tags": []
   },
   "source": [
    "<br>"
   ]
  },
  {
   "cell_type": "markdown",
   "id": "00a5f221-6907-4a18-b43c-28df747c5d0b",
   "metadata": {
    "execution": {
     "iopub.execute_input": "2024-02-14T10:38:02.953935Z",
     "iopub.status.busy": "2024-02-14T10:38:02.952400Z",
     "iopub.status.idle": "2024-02-14T10:38:02.970570Z",
     "shell.execute_reply": "2024-02-14T10:38:02.967973Z",
     "shell.execute_reply.started": "2024-02-14T10:38:02.953862Z"
    },
    "tags": []
   },
   "source": [
    "### 5: You can create various plots using the matplotlib library. F.e. plt.plot(x, y) creates a line plot of whatever x and y values you enter. \n",
    "\n",
    "a) Try generating a scatter plot that displays all of the values stored in your fish_coordinates array. Use the command plt.scatter(x, y) for this and replace the x and y values with those stored in your fish_coordinates array. What do you see? (Tipp: if you add 's = 0.01' in the plt.scatter brackets after your values, things might become more clear)"
   ]
  },
  {
   "cell_type": "markdown",
   "id": "da1b46f0-207b-4b93-aa6d-12681695537e",
   "metadata": {
    "execution": {
     "iopub.execute_input": "2024-02-14T10:38:12.438659Z",
     "iopub.status.busy": "2024-02-14T10:38:12.437019Z",
     "iopub.status.idle": "2024-02-14T10:38:12.447308Z",
     "shell.execute_reply": "2024-02-14T10:38:12.445292Z",
     "shell.execute_reply.started": "2024-02-14T10:38:12.438585Z"
    },
    "tags": []
   },
   "source": [
    "##### Code:"
   ]
  },
  {
   "cell_type": "code",
   "execution_count": null,
   "id": "14b95241-44d4-4d12-92d1-f1e0715bb7d1",
   "metadata": {
    "tags": []
   },
   "outputs": [],
   "source": []
  },
  {
   "cell_type": "markdown",
   "id": "f617aa17-478e-4713-b57b-285c0e7605ee",
   "metadata": {
    "execution": {
     "iopub.execute_input": "2024-02-23T12:47:27.040329Z",
     "iopub.status.busy": "2024-02-23T12:47:27.038125Z",
     "iopub.status.idle": "2024-02-23T12:47:27.054279Z",
     "shell.execute_reply": "2024-02-23T12:47:27.051337Z",
     "shell.execute_reply.started": "2024-02-23T12:47:27.040238Z"
    },
    "tags": []
   },
   "source": [
    "<br>"
   ]
  },
  {
   "cell_type": "markdown",
   "id": "e6b41261-3ccf-4086-b549-02e0abf4e6bf",
   "metadata": {},
   "source": [
    "b) Now let's visualize time in this scatter plot. Add the parameter c = np.arange(0, fish_coordinates.shape[0]) in plt.scatter and look at the output."
   ]
  },
  {
   "cell_type": "code",
   "execution_count": null,
   "id": "06fa9911-fb46-4ef4-9c13-f526b18cd91d",
   "metadata": {
    "tags": []
   },
   "outputs": [],
   "source": []
  },
  {
   "cell_type": "markdown",
   "id": "a6f78b6a-3489-4383-98a1-f90cae1398e8",
   "metadata": {},
   "source": [
    "<br>"
   ]
  },
  {
   "cell_type": "markdown",
   "id": "39e32233-c652-4a3b-8bc8-a31f68102f62",
   "metadata": {},
   "source": [
    "c) Lastly, let's visualize the same data, but as a heatmap. You can do this using plt.hist2d(). Insert your x and y coordinates and add the parameter 'bins = 50' inside the function to increase histogram resolution."
   ]
  },
  {
   "cell_type": "code",
   "execution_count": null,
   "id": "3b8a616c-7b7e-4048-aaba-a116259271b3",
   "metadata": {
    "tags": []
   },
   "outputs": [],
   "source": []
  },
  {
   "cell_type": "markdown",
   "id": "8169fd71-2f13-42f5-aca1-0fca7280ada6",
   "metadata": {
    "execution": {
     "iopub.execute_input": "2024-02-14T10:40:05.574489Z",
     "iopub.status.busy": "2024-02-14T10:40:05.573704Z",
     "iopub.status.idle": "2024-02-14T10:40:05.586822Z",
     "shell.execute_reply": "2024-02-14T10:40:05.584355Z",
     "shell.execute_reply.started": "2024-02-14T10:40:05.574424Z"
    },
    "tags": []
   },
   "source": [
    "<br>"
   ]
  },
  {
   "cell_type": "markdown",
   "id": "ec8c3105-c68f-410b-97b6-ce2be0538c30",
   "metadata": {
    "execution": {
     "iopub.execute_input": "2024-02-14T10:38:25.079228Z",
     "iopub.status.busy": "2024-02-14T10:38:25.077612Z",
     "iopub.status.idle": "2024-02-14T10:38:25.092761Z",
     "shell.execute_reply": "2024-02-14T10:38:25.090329Z",
     "shell.execute_reply.started": "2024-02-14T10:38:25.079149Z"
    },
    "tags": []
   },
   "source": [
    "<br>"
   ]
  },
  {
   "cell_type": "markdown",
   "id": "4eae88bd-c04c-40c5-ad99-9ccbbdaad8fd",
   "metadata": {
    "execution": {
     "iopub.execute_input": "2024-02-14T10:41:41.848542Z",
     "iopub.status.busy": "2024-02-14T10:41:41.847249Z",
     "iopub.status.idle": "2024-02-14T10:41:41.859228Z",
     "shell.execute_reply": "2024-02-14T10:41:41.856780Z",
     "shell.execute_reply.started": "2024-02-14T10:41:41.848398Z"
    },
    "tags": []
   },
   "source": [
    "### 6: Let’s say we want to learn more about the behavior of this fish. For this we want to look at its movement more closely and determine how the fish moves over time.  \n",
    "\n",
    "To determine speed we need to know two variables. Distance and time. First, think about how you can determine distance mathematically using the data from your fish_coordinates file. And enter how as a written answer below.\n"
   ]
  },
  {
   "cell_type": "markdown",
   "id": "1db1575c-adc2-4071-bf6d-71912d023bfa",
   "metadata": {
    "execution": {
     "iopub.execute_input": "2024-02-15T07:29:53.491026Z",
     "iopub.status.busy": "2024-02-15T07:29:53.489787Z",
     "iopub.status.idle": "2024-02-15T07:29:53.509458Z",
     "shell.execute_reply": "2024-02-15T07:29:53.507094Z",
     "shell.execute_reply.started": "2024-02-15T07:29:53.490930Z"
    },
    "tags": []
   },
   "source": []
  },
  {
   "cell_type": "markdown",
   "id": "d99e0002-ac83-4561-8a8c-9f6a3afb85c7",
   "metadata": {
    "execution": {
     "iopub.execute_input": "2024-02-15T10:21:33.199846Z",
     "iopub.status.busy": "2024-02-15T10:21:33.198342Z"
    },
    "tags": []
   },
   "source": [
    "<br>"
   ]
  },
  {
   "cell_type": "markdown",
   "id": "fbccf6ec-ce03-48a6-93e0-4cb4ae512989",
   "metadata": {
    "execution": {
     "iopub.execute_input": "2024-02-15T10:21:52.160987Z",
     "iopub.status.busy": "2024-02-15T10:21:52.160187Z",
     "iopub.status.idle": "2024-02-15T10:21:52.173607Z",
     "shell.execute_reply": "2024-02-15T10:21:52.170651Z",
     "shell.execute_reply.started": "2024-02-15T10:21:52.160922Z"
    },
    "tags": []
   },
   "source": [
    "<br>"
   ]
  },
  {
   "cell_type": "markdown",
   "id": "f653f914-a685-4aee-956f-899dceef9ec4",
   "metadata": {
    "execution": {
     "iopub.execute_input": "2024-02-15T10:22:28.241051Z",
     "iopub.status.busy": "2024-02-15T10:22:28.240247Z",
     "iopub.status.idle": "2024-02-15T10:22:28.251525Z",
     "shell.execute_reply": "2024-02-15T10:22:28.248804Z",
     "shell.execute_reply.started": "2024-02-15T10:22:28.240982Z"
    },
    "tags": []
   },
   "source": [
    "### 7: Using whatever mathmatical formula you decided on, enter some code below which calculates the distance between the first and second time point of the fish_coordinates array.       \n",
    "Save the x and y coordinates of both time points as objects and perform your calculation on them\n",
    "\n",
    "**---------------------------------------------------------------------------------------------------------------------**\n",
    "#### Tipp: Python and Numpy support various arithmetic operations on arrays. Here are some examples:\n",
    "\n",
    "**Addition:**   \n",
    "array1 = np.array([1, 2, 3]    \n",
    "array2 = np.array([4, 5, 6])   \n",
    "array1 + array2  \n",
    "Output: [5 7 9]\n",
    "\n",
    "**Subtraction:**    \n",
    "array2 - array1    \n",
    "Output: [3, 3, 3]\n",
    "\n",
    "**Multiplication:**    \n",
    "array1 * array2   \n",
    "Output: [4, 10, 18]\n",
    "\n",
    "**Power:**  \n",
    "2 ** 3    \n",
    "Output: 8\n",
    "\n",
    "**Square root:**    \n",
    "np.sqrt(9)    \n",
    "Output: 3    \n",
    "\n",
    "**---------------------------------------------------------------------------------------------------------------------**\n"
   ]
  },
  {
   "cell_type": "markdown",
   "id": "d232def9-2bff-41e1-86b5-6ca6103e1e4d",
   "metadata": {},
   "source": [
    "Save the first and second time points as objects:"
   ]
  },
  {
   "cell_type": "code",
   "execution_count": null,
   "id": "a206649c-5a95-464c-afc0-0866f9a82033",
   "metadata": {
    "tags": []
   },
   "outputs": [],
   "source": [
    "x1 = \n",
    "y1 = \n",
    "x2 = \n",
    "y2 = "
   ]
  },
  {
   "cell_type": "markdown",
   "id": "6383d028-6f7b-415a-ad07-37da715c3f53",
   "metadata": {},
   "source": [
    "Code to calculate the distance between the first and second time point:"
   ]
  },
  {
   "cell_type": "code",
   "execution_count": null,
   "id": "e69afec3-f303-4a8b-bd17-1b5127e7d377",
   "metadata": {},
   "outputs": [],
   "source": []
  },
  {
   "cell_type": "markdown",
   "id": "313425e3-a421-488d-b7ee-83c76004a44a",
   "metadata": {},
   "source": [
    "<br>"
   ]
  },
  {
   "cell_type": "markdown",
   "id": "6fd4eb90-293e-4416-9ce0-99a307a88815",
   "metadata": {},
   "source": [
    "<br>"
   ]
  },
  {
   "cell_type": "markdown",
   "id": "e6828856-bac7-40ec-9934-a530075b7d4a",
   "metadata": {
    "tags": []
   },
   "source": [
    "### 8: Now write code to determine the distances between each of the time points for the entire fish_coordinates array. \n",
    "\n",
    "You might need several lines of code for this. Your output should look something like this:    \n",
    "Output: array([0.14142136, 0.2236068 , 0.14142136, ..., 0.9486833, 0.9486833, 0.82462113])    \n",
    "Save the output in an object called \"speed\"\n",
    "\n",
    "**---------------------------------------------------------------------------------------------------------------------**\n",
    "#### Tipp: Numpy support various vector operations on arrays. Here are some examples:\n",
    "\n",
    "**Calculate all differences along a given array:**   \n",
    "np.diff([1, 2, 3, 5])    \n",
    "Output: [1 1 2]\n",
    "\n",
    "**Calculate the length or magnitude of a vector:**    \n",
    "np.linalg.norm([1,1])    \n",
    "Output: 1.4142135623730951\n",
    "\n",
    "**---------------------------------------------------------------------------------------------------------------------**\n",
    "\n",
    "\n"
   ]
  },
  {
   "cell_type": "markdown",
   "id": "1dba4ffc-03e1-41a6-9bf4-a4bf88711e8e",
   "metadata": {},
   "source": [
    "Code to calculate the distance between all time points:"
   ]
  },
  {
   "cell_type": "code",
   "execution_count": null,
   "id": "4cc55842-9909-4507-b8ef-03a59098ee96",
   "metadata": {
    "tags": []
   },
   "outputs": [],
   "source": []
  },
  {
   "cell_type": "markdown",
   "id": "2951d7cd-4811-46ec-9986-dce01339fe17",
   "metadata": {},
   "source": [
    "<br>"
   ]
  },
  {
   "cell_type": "markdown",
   "id": "6b51b8c2-56d9-4b66-85f2-f4d364cc9d80",
   "metadata": {},
   "source": [
    "<br>"
   ]
  },
  {
   "cell_type": "markdown",
   "id": "9fc33a5c-a74d-4b67-83d1-349f3cfb679b",
   "metadata": {},
   "source": [
    "### 9: Plot your output from the previous question using plt.plot()\n",
    "Tipp: Zoom in a little using the plt.xlim(), or numpy '[ ]' subsetting commands to get a better idea of what's going on. You should be able to see the speed of the fish and identify individual bouts."
   ]
  },
  {
   "cell_type": "markdown",
   "id": "075029a8-2ceb-4957-a9df-12f1f5753c68",
   "metadata": {},
   "source": [
    "Code:"
   ]
  },
  {
   "cell_type": "code",
   "execution_count": null,
   "id": "0513d48c-2c73-46ad-99b2-5bb866761711",
   "metadata": {
    "tags": []
   },
   "outputs": [],
   "source": []
  },
  {
   "cell_type": "markdown",
   "id": "c4d7ce7e-fca3-4776-af3f-ccb83fc48729",
   "metadata": {},
   "source": [
    "<br>"
   ]
  },
  {
   "cell_type": "markdown",
   "id": "a5f9fb31-4abf-4175-94c2-358efa46d282",
   "metadata": {},
   "source": [
    "<br>"
   ]
  },
  {
   "cell_type": "markdown",
   "id": "c1a207f3-b417-4dd7-8e56-bf69c1283026",
   "metadata": {
    "execution": {
     "iopub.execute_input": "2024-02-23T10:01:52.672842Z",
     "iopub.status.busy": "2024-02-23T10:01:52.671212Z",
     "iopub.status.idle": "2024-02-23T10:01:52.683098Z",
     "shell.execute_reply": "2024-02-23T10:01:52.680307Z",
     "shell.execute_reply.started": "2024-02-23T10:01:52.672723Z"
    },
    "tags": []
   },
   "source": [
    "### 10: Use the speed values from the previous question to color code the coordinate scatter plot you generated in question 5   \n",
    "For this, use the 'c' parameter in plt.scatter() and assign your speed values to it. The speed traces and coordinates have to be the same shape. You can prepend a 0 using np.insert(speed, 0, 0)   \n",
    "Tipp: further parameters to add: cmap = 'Reds', s=5"
   ]
  },
  {
   "cell_type": "markdown",
   "id": "4290ffb3-dd75-4b5c-b90e-58db9e3e74c6",
   "metadata": {},
   "source": [
    "Code:"
   ]
  },
  {
   "cell_type": "code",
   "execution_count": null,
   "id": "b1936ad9-0c32-4c3e-a241-5ae27119b62e",
   "metadata": {
    "tags": []
   },
   "outputs": [],
   "source": []
  },
  {
   "cell_type": "markdown",
   "id": "7beeae73-ba99-4de6-a012-7aa75178f99e",
   "metadata": {
    "execution": {
     "iopub.execute_input": "2024-02-23T13:44:25.585847Z",
     "iopub.status.busy": "2024-02-23T13:44:25.584986Z",
     "iopub.status.idle": "2024-02-23T13:44:25.598972Z",
     "shell.execute_reply": "2024-02-23T13:44:25.596076Z",
     "shell.execute_reply.started": "2024-02-23T13:44:25.585775Z"
    },
    "tags": []
   },
   "source": [
    "<br>"
   ]
  },
  {
   "cell_type": "markdown",
   "id": "bc1a7fc0-8917-4e25-ab38-e478191a200f",
   "metadata": {},
   "source": [
    "<br>"
   ]
  },
  {
   "cell_type": "markdown",
   "id": "0ea8bcff-ebdd-41cf-be6e-d252f985d236",
   "metadata": {
    "execution": {
     "iopub.execute_input": "2024-02-22T12:46:08.702379Z",
     "iopub.status.busy": "2024-02-22T12:46:08.701652Z",
     "iopub.status.idle": "2024-02-22T12:46:08.714747Z",
     "shell.execute_reply": "2024-02-22T12:46:08.712385Z",
     "shell.execute_reply.started": "2024-02-22T12:46:08.702323Z"
    },
    "tags": []
   },
   "source": [
    "### 11: Let's segment the movement of this fish further. \n",
    "a) Use the find_peaks() function from scipy on the array you generated in Question 8 to identify individual bouts. Read the documentation here https://docs.scipy.org/doc/scipy/reference/generated/scipy.signal.find_peaks.html and select appropriate parameters.      \n",
    "b) Check how many bouts / peaks you detected     \n",
    "c) Plot the detected peaks on top of the speed traces. Similar to your plot from Question 9. Use plt.scatter in combination with plt.plot for this in two separate lines of code. \n",
    "\n",
    "**Tipp for part c**: You can subset numpy arrays by specifying indices using another array. For example:      \n",
    "indices = np.array([0, 2, 5, 9])      \n",
    "data = np.array([0, 1, 2, 3, 4, 5, 6, 7, 8, 9, 10])     \n",
    "data[indices]    \n",
    "Output: [0, 2, 5, 9]"
   ]
  },
  {
   "cell_type": "markdown",
   "id": "42f740fc-c0f8-4fa2-a097-5c46fa09fd16",
   "metadata": {},
   "source": [
    "Code:"
   ]
  },
  {
   "cell_type": "code",
   "execution_count": null,
   "id": "0f612cd4-b65e-4f02-a4b3-a39538115d20",
   "metadata": {
    "tags": []
   },
   "outputs": [],
   "source": []
  },
  {
   "cell_type": "markdown",
   "id": "ba5dec8e-2327-4f32-9eea-eab10c19098a",
   "metadata": {},
   "source": [
    "<br>"
   ]
  },
  {
   "cell_type": "markdown",
   "id": "92ddb37a-47e6-45b5-aa4f-b087b748dd5d",
   "metadata": {},
   "source": [
    "<br>"
   ]
  },
  {
   "cell_type": "markdown",
   "id": "ca2c7ede-6dd5-498f-a962-be1ec144afd5",
   "metadata": {
    "execution": {
     "iopub.execute_input": "2024-02-23T09:27:50.692371Z",
     "iopub.status.busy": "2024-02-23T09:27:50.691369Z",
     "iopub.status.idle": "2024-02-23T09:27:50.703833Z",
     "shell.execute_reply": "2024-02-23T09:27:50.700954Z",
     "shell.execute_reply.started": "2024-02-23T09:27:50.692303Z"
    },
    "tags": []
   },
   "source": [
    "### 12: Calculate and plot freezing durations\n",
    "When looking at the fish's speed over the entire recording length, you will notice two freezing episodes. Write code to calculate how long the freezing episodes are and make a plot that indicates when they occured.\n",
    "\n",
    "Tipp: The Video was recorded at 30 frames per second (fps). Therefore each coordinate in your fish_coordinates corresponds to 1 video frame. Keep that in mind when evaluating freezing durations."
   ]
  },
  {
   "cell_type": "markdown",
   "id": "9e6aded5-4764-4759-8578-867726cad201",
   "metadata": {
    "execution": {
     "iopub.execute_input": "2024-02-25T16:39:33.270041Z",
     "iopub.status.busy": "2024-02-25T16:39:33.269100Z",
     "iopub.status.idle": "2024-02-25T16:39:33.285218Z",
     "shell.execute_reply": "2024-02-25T16:39:33.281904Z",
     "shell.execute_reply.started": "2024-02-25T16:39:33.269955Z"
    },
    "tags": []
   },
   "source": [
    "Code to plot freezing duration"
   ]
  },
  {
   "cell_type": "code",
   "execution_count": null,
   "id": "5dcfa741-f2c6-4184-a2db-564f8400d443",
   "metadata": {
    "tags": []
   },
   "outputs": [],
   "source": []
  },
  {
   "cell_type": "markdown",
   "id": "6635fad2-8640-4abb-b5cf-79631c331027",
   "metadata": {
    "execution": {
     "iopub.execute_input": "2024-02-25T16:39:48.230874Z",
     "iopub.status.busy": "2024-02-25T16:39:48.230036Z",
     "iopub.status.idle": "2024-02-25T16:39:48.245271Z",
     "shell.execute_reply": "2024-02-25T16:39:48.242525Z",
     "shell.execute_reply.started": "2024-02-25T16:39:48.230803Z"
    },
    "tags": []
   },
   "source": [
    "Code to plot when freezing occured\n",
    "\n"
   ]
  },
  {
   "cell_type": "code",
   "execution_count": null,
   "id": "add58a98-3e22-4ee2-92fa-6444b4bccc43",
   "metadata": {},
   "outputs": [],
   "source": []
  }
 ],
 "metadata": {
  "kernelspec": {
   "display_name": "Python3",
   "language": "python",
   "name": "python3"
  },
  "language_info": {
   "codemirror_mode": {
    "name": "ipython",
    "version": 3
   },
   "file_extension": ".py",
   "mimetype": "text/x-python",
   "name": "python",
   "nbconvert_exporter": "python",
   "pygments_lexer": "ipython3",
   "version": "3.11.5"
  }
 },
 "nbformat": 4,
 "nbformat_minor": 5
}
