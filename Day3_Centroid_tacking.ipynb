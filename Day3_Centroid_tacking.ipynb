{
 "cells": [
  {
   "cell_type": "markdown",
   "id": "f41cab01-5ce6-48de-831e-396f1b70baf2",
   "metadata": {},
   "source": [
    "## Test Notebook"
   ]
  },
  {
   "cell_type": "code",
   "execution_count": 6,
   "id": "4c58ea9f-96c2-410a-a7a1-472cd27e6fc4",
   "metadata": {},
   "outputs": [],
   "source": [
    "import numpy as np\n",
    "import pandas as pd"
   ]
  },
  {
   "cell_type": "code",
   "execution_count": null,
   "id": "3599d902-bea6-4790-8aa9-04ccc547e653",
   "metadata": {},
   "outputs": [],
   "source": []
  }
 ],
 "metadata": {
  "kernelspec": {
   "display_name": "behavior_tracking_course",
   "language": "python",
   "name": "behavior_tracking_course"
  },
  "language_info": {
   "codemirror_mode": {
    "name": "ipython",
    "version": 3
   },
   "file_extension": ".py",
   "mimetype": "text/x-python",
   "name": "python",
   "nbconvert_exporter": "python",
   "pygments_lexer": "ipython3",
   "version": "3.12.1"
  }
 },
 "nbformat": 4,
 "nbformat_minor": 5
}
