{
 "cells": [
  {
   "cell_type": "code",
   "execution_count": null,
   "id": "8de12b93-d73e-42fa-a419-927697dbb485",
   "metadata": {
    "tags": []
   },
   "outputs": [],
   "source": [
    "import numpy as np\n",
    "import pandas as pd\n",
    "import matplotlib.pyplot as plt\n",
    "import seaborn as sns"
   ]
  },
  {
   "cell_type": "markdown",
   "id": "8503a63e-0758-48bf-a46e-161b676588f5",
   "metadata": {},
   "source": [
    "# Quantification of animal interactions\n",
    "\n",
    "today, we will perform two fundamental analyses to determine if and how two animals show any attraction to one another.\n",
    "### 1. determining attraction\n",
    "- how can we formally show that they are attracted to one another? (spoiler: they are)\n",
    "### 2. computing a neighborhood map\n",
    "- let's generate a neighborhood map to get a first sense at the 'collective behavior rules' of the animals.\n",
    "\n",
    "We will use trajectories of two fish that were recorded for two hours while swimming in an empty dish.\n",
    "\n"
   ]
  },
  {
   "cell_type": "markdown",
   "id": "a81d1dab-7b50-4804-abb3-e084b3e6a29f",
   "metadata": {},
   "source": [
    "# Let's load trajectories of two interacting fish\n",
    "\n",
    "The data has the following format:\n",
    "\n",
    "x1, y1, p1, x2, y2, p2\n",
    "\n",
    "(x,y are the coordinates of the animals 1 and 2 at each time point, p is irrelevant)."
   ]
  },
  {
   "cell_type": "code",
   "execution_count": null,
   "id": "24f156e4-7d87-45af-b594-f73b5ad5093a",
   "metadata": {
    "tags": []
   },
   "outputs": [],
   "source": [
    "tra=np.loadtxt('trajectories_day5.txt')\n",
    "tra.shape"
   ]
  },
  {
   "cell_type": "code",
   "execution_count": null,
   "id": "d8f96f1d-303b-4825-9604-a99534b30e9c",
   "metadata": {
    "tags": []
   },
   "outputs": [],
   "source": [
    "#for easier access to the data of each animal, let's put the trajectories into separate variables:\n",
    "an1=tra[:,[0,1]]\n",
    "an2=tra[:,[3,4]]\n",
    "\n",
    "print(an1)"
   ]
  },
  {
   "cell_type": "code",
   "execution_count": null,
   "id": "405b68a3-ee08-4374-b32e-fc4dbc06970c",
   "metadata": {
    "tags": []
   },
   "outputs": [],
   "source": [
    "# As always, let's first take a look where the animals went\n",
    "# for example by using an x,y, scatter plot\n",
    "# you can plot the two animals on top of each other in different colors for example.\n",
    "# remember that s and alpha are useful parameters for scatter when you have many points.\n",
    "# you can specify color like this: color='r', for red, 'g', 'b'. google has more color codes.\n",
    "\n",
    "plt.scatter() #animal 1\n",
    "plt.scatter() #animal 2"
   ]
  },
  {
   "cell_type": "code",
   "execution_count": null,
   "id": "a2d2050a-36d5-400f-9f18-ea190e384334",
   "metadata": {
    "tags": []
   },
   "outputs": [],
   "source": [
    "#Or plot them separately \n",
    "\n",
    "fig,axes =plt.subplots(1,2, sharex=True, sharey=True) #create two subplots side by side\n",
    "\n",
    "axes[0].scatter() #plot the first animal in green\n",
    "axes[0].set_aspect('equal') #set axes to equal scale\n",
    "axes[1].scatter() #plot the second animal in red\n",
    "axes[1].set_aspect('equal')"
   ]
  },
  {
   "cell_type": "code",
   "execution_count": null,
   "id": "eff15e32-acf9-4499-abc2-9ca2a9346d53",
   "metadata": {
    "tags": []
   },
   "outputs": [],
   "source": [
    "# %load ./snippets/solution01.py\n",
    "#uncomment above to load a solution\n"
   ]
  },
  {
   "cell_type": "markdown",
   "id": "2a9a62c4-aa85-40e5-af5e-b4e29d4e5f74",
   "metadata": {
    "execution": {
     "iopub.execute_input": "2024-03-04T21:28:07.754891Z",
     "iopub.status.busy": "2024-03-04T21:28:07.752053Z",
     "iopub.status.idle": "2024-03-04T21:28:07.764071Z",
     "shell.execute_reply": "2024-03-04T21:28:07.762422Z",
     "shell.execute_reply.started": "2024-03-04T21:28:07.754819Z"
    },
    "tags": []
   },
   "source": [
    "# Quantifying attraction\n",
    "\n",
    "- It looks like both animals explored the arena more or less evenly and equally.\n",
    "- Let's analyze the interaction by checking if they were closer together than chance levels"
   ]
  },
  {
   "cell_type": "code",
   "execution_count": null,
   "id": "8d69d135-b03a-4058-b159-6a15f2734978",
   "metadata": {
    "tags": []
   },
   "outputs": [],
   "source": [
    "# lets calculate the **observed** distance between the two animals:\n",
    "# remember, this is equivalent to how we looked at speed in a previous session.\n",
    "# np.sqrt()\n",
    "# x**2 means x squared.\n",
    "\n",
    "diff_12=\n",
    "dist=\n",
    "print(dist)\n",
    "\n",
    "# the correct result is:\n",
    "#[298.83157213 298.54594035 295.98163524 ... 199.7900971  199.03755073\n",
    "# 199.52689668]"
   ]
  },
  {
   "cell_type": "code",
   "execution_count": null,
   "id": "edc1e0eb-e3f3-4c2c-8704-edfa9c823da5",
   "metadata": {
    "tags": []
   },
   "outputs": [],
   "source": [
    "# %load ./snippets/solution02.py\n",
    "#uncomment above to load a solution\n"
   ]
  },
  {
   "cell_type": "code",
   "execution_count": null,
   "id": "29bf82a1-7ca6-4667-b0ed-7cbfa0dfcbb5",
   "metadata": {
    "tags": []
   },
   "outputs": [],
   "source": [
    "# let's plot to take a look at the first 10000 inter animal distances\n",
    "plt.plot(dist[0:10000])\n",
    "plt.axhline(dist.mean(),color='g') #adding some visual guides\n",
    "plt.axhline(dist.max(),color='r')"
   ]
  },
  {
   "cell_type": "code",
   "execution_count": null,
   "id": "160c840f-a582-4e4c-99ef-325974a2415d",
   "metadata": {
    "tags": []
   },
   "outputs": [],
   "source": [
    "#let's look at the mean distance over the entire recording:\n",
    "#this corresponds to the green line above.\n",
    "print(dist.mean())"
   ]
  },
  {
   "cell_type": "code",
   "execution_count": null,
   "id": "2f3846c8-c568-4efa-95ef-9e07de787810",
   "metadata": {
    "tags": []
   },
   "outputs": [],
   "source": [
    "# how do we know that this is lower or greater than chance level?\n",
    "# one option is by computing a chance level *expected* distance for comparison.\n",
    "# try to understand the code below and decide what might be good values for 'nShift' and 'minShift'.\n",
    "\n",
    "\n",
    "nShift=10\n",
    "minShift=5000\n",
    "distShift=np.zeros(nShift)\n",
    "for i in range(nShift):\n",
    "    shift=(i+1)*minShift\n",
    "    an2_shift=np.roll(an2,shift,axis=0)\n",
    "    diff_12s=an1-an2_shift\n",
    "    dist_12s=np.sqrt(diff_12s[:,0]**2+diff_12s[:,1]**2)\n",
    "    distShift[i]=np.mean(dist_12s)\n",
    "    \n",
    "print(distShift)"
   ]
  },
  {
   "cell_type": "markdown",
   "id": "e5c56179-0ce0-4cd8-b625-2a1ace07b0f8",
   "metadata": {},
   "source": [
    "## How different is the expected distance from the observed distance?"
   ]
  },
  {
   "cell_type": "code",
   "execution_count": null,
   "id": "764636b8-3a7d-4e6e-855e-544cb8fa082e",
   "metadata": {
    "tags": []
   },
   "outputs": [],
   "source": [
    "#Let's look at that visually using distributions:\n",
    "plt.hist(dist,bins=100); #histogram of observed distances across all frames.\n",
    "plt.hist(dist_12s,bins=100,alpha=0.5); #histogram of shuffled distances."
   ]
  },
  {
   "cell_type": "code",
   "execution_count": null,
   "id": "7aaab070-f765-42a5-861e-2d60aa383826",
   "metadata": {
    "tags": []
   },
   "outputs": [],
   "source": [
    "#Let's compare at all the shifted distances to the observed:\n",
    "#for this we will use another data structure:\n",
    "# the pandas dataframe:\n",
    "\n",
    "allDist=np.append(distShift,dist.mean())\n",
    "df=pd.DataFrame(allDist,columns=['dist'])\n",
    "df['type']='shifted'\n",
    "df.loc[10,'type']='observed'\n",
    "df\n"
   ]
  },
  {
   "cell_type": "code",
   "execution_count": null,
   "id": "70b22442-9a25-4a2c-9b33-86bf6f678214",
   "metadata": {
    "tags": []
   },
   "outputs": [],
   "source": [
    "# Once the data is in this table format, seaborn can conveniently generate summary plots:\n",
    "# The logic is then similar to R 'tapply'\n",
    "sns.stripplot(data=df,x='type',y='dist')\n",
    "plt.ylim([0,350])"
   ]
  },
  {
   "cell_type": "code",
   "execution_count": null,
   "id": "b4cfd995-2c34-4028-abc6-30788bc443be",
   "metadata": {
    "tags": []
   },
   "outputs": [],
   "source": [
    "#sns.pointplot is another useful plot that can generate error bars. (which are tiny here).\n",
    "#you can also combine these plots. one in black, and the individual datapoints in blue, for example.\n",
    "\n",
    "sns.pointplot(data=df,x='type',y='dist', join=False, errorbar='sd', color='k')\n",
    "sns.stripplot(data=df,x='type',y='dist')\n",
    "plt.ylim([0,350])"
   ]
  },
  {
   "cell_type": "code",
   "execution_count": null,
   "id": "2cc65954-7af4-4cc8-844d-b1993164cb11",
   "metadata": {
    "tags": []
   },
   "outputs": [],
   "source": [
    "#Attraction index\n",
    "#Let's quantify HOW much attraction we see:\n",
    "\n",
    "#(expected-observed)/expected\n",
    "\n",
    "attraction=(allDist.mean()-dist.mean())/allDist.mean()\n",
    "print(attraction)"
   ]
  },
  {
   "cell_type": "code",
   "execution_count": null,
   "id": "0f24be6d-5e2e-4a73-bec7-a142e2114a7b",
   "metadata": {
    "tags": []
   },
   "outputs": [],
   "source": [
    "# What does this number mean. can you phrase this in a few words?"
   ]
  },
  {
   "cell_type": "markdown",
   "id": "c8b54026-44de-4908-b860-c90257f34856",
   "metadata": {},
   "source": [
    "# Let's compute a neighborhood map!\n",
    "\n",
    "- This means to compute egocentric coordinates for animal 1\n",
    "- ... For this, we need to put animal 1 at the center of the world\n",
    "- ... and rotate the world so that animal 1 faces up\n",
    "- ... ... For this we need to determine the heading of animal 1\n",
    "- ... ... ... let's assume the animals move only forward"
   ]
  },
  {
   "cell_type": "markdown",
   "id": "d8f6e7c8-b8e8-4e54-879d-0381e44dcada",
   "metadata": {},
   "source": [
    "# toDo:\n",
    "1. compute heading of animal 1\n",
    "2. compute position of animal 2 relative to animal 1 -> relativePos\n",
    "3. rotate relative positions such that animal 1 always heads up -> relativePosRot\n",
    "4. plot rotated position to reveal neighborhood map"
   ]
  },
  {
   "cell_type": "markdown",
   "id": "fa11cd2b-6785-4b7e-9361-0422efa2fb93",
   "metadata": {},
   "source": [
    "# 1. compute heading of animal 1\n",
    "- infer heading from direction of movement"
   ]
  },
  {
   "cell_type": "code",
   "execution_count": null,
   "id": "a8907cad-53a6-4ace-96f1-185d564f36a9",
   "metadata": {
    "tags": []
   },
   "outputs": [],
   "source": [
    "# let's start by calculating the direction animal 1 moves from frame to frame.\n",
    "# this is the same approach we used last time when we talked about speed.\n",
    "# remember, there is usually a way to do things on the entire trajectory at once.\n",
    "# e.g. the numpy function np.diff() computes the differences between consecutive elements of a vector.\n",
    "\n",
    "# begin by computing the differences between frames in x an y\n",
    "dx = \n",
    "dy = \n",
    "\n",
    "#those differences can be plugged into our formula for the distance:\n",
    "#note how we can again compute the entire vector at once!\n",
    "\n",
    "distances = np.sqrt(dx**2 + dy**2) \n",
    "\n",
    "# (we don't really need the distances, we only care about dx and dy, but let's take a brief look)\n"
   ]
  },
  {
   "cell_type": "code",
   "execution_count": null,
   "id": "bce9945f-449f-42d1-826e-c607b328498d",
   "metadata": {
    "tags": []
   },
   "outputs": [],
   "source": [
    "# %load ./snippets/solution1.py\n",
    "#uncomment above to load a solution\n"
   ]
  },
  {
   "cell_type": "code",
   "execution_count": null,
   "id": "02702f57-e61d-4ee2-86bd-22201e50a874",
   "metadata": {
    "tags": []
   },
   "outputs": [],
   "source": [
    "plt.plot(distances[:300]); #plot the distances travelled in each of the first 300 frames"
   ]
  },
  {
   "cell_type": "markdown",
   "id": "9d35ca22-0fff-42ff-b7c9-5069e57184ad",
   "metadata": {},
   "source": [
    "OK, great. The fish swims in clear bouts."
   ]
  },
  {
   "cell_type": "code",
   "execution_count": null,
   "id": "f6542fcc-7b83-40db-b845-cc86dd0f941a",
   "metadata": {
    "tags": []
   },
   "outputs": [],
   "source": [
    "# now you can use the differences in x and y to compute IN WHICH DIRECTION they point\n",
    "# this is trigonometry. Use the function np.arctan2(y, x) with the correct variables to compute the direction for each frame\n",
    "# again, this is a vector operation.\n",
    "# the correct result is ([ 0.43240778,  0.8834045 ,  2.28757867, ...,  0.        , -1.10714872, -0.16514868])\n",
    "\n",
    "headings = \n",
    "print(headings)"
   ]
  },
  {
   "cell_type": "code",
   "execution_count": null,
   "id": "a042ceed-7814-4926-a7c6-a65075530e06",
   "metadata": {
    "tags": []
   },
   "outputs": [],
   "source": [
    "# %load ./snippets/solution2.py\n",
    "#uncomment above to load a solution\n"
   ]
  },
  {
   "cell_type": "code",
   "execution_count": null,
   "id": "00d263e5-b371-455e-8d5b-c091ca0defd7",
   "metadata": {
    "tags": []
   },
   "outputs": [],
   "source": [
    "# let's take a look at the first 300 frames. What do we notice?\n",
    "plt.plot(headings[:300])"
   ]
  },
  {
   "cell_type": "markdown",
   "id": "7b3fcd3d-e549-432e-894c-5eafe21994b9",
   "metadata": {},
   "source": []
  },
  {
   "cell_type": "code",
   "execution_count": null,
   "id": "8eeae77e-7e4b-4480-9ad9-8cd8ce8ace52",
   "metadata": {
    "tags": []
   },
   "outputs": [],
   "source": [
    "#here is a function to smooth a time series, using a moving average.\n",
    "# let's not worry about the details but note you can tune the degree of smoothing using the 'window_size' parameter\n",
    "\n",
    "def moving_average_2d(data, window_size):\n",
    "    \"\"\"Compute the moving average of a 2D array (data) across each column.\"\"\"\n",
    "    # Initialize an empty array to store the smoothed data\n",
    "    smoothed_data = np.empty((data.shape[0] - window_size + 1, data.shape[1]))\n",
    "    \n",
    "    # Apply moving average for each column\n",
    "    for i in range(data.shape[1]):  # Iterate over columns\n",
    "        smoothed_data[:, i] = np.convolve(data[:, i], np.ones(window_size) / window_size, mode='valid')\n",
    "    \n",
    "    return smoothed_data\n"
   ]
  },
  {
   "cell_type": "code",
   "execution_count": null,
   "id": "69363d24-a5a2-4aec-8c61-fa9625e078d4",
   "metadata": {
    "tags": []
   },
   "outputs": [],
   "source": [
    "# try a few different parameters for 'window_size'. what do you notice?\n",
    "# what is your intuition for a good parameter value?\n",
    "\n",
    "window_size=10\n",
    "\n",
    "an1s=moving_average_2d(an1,window_size)\n",
    "an2s=moving_average_2d(an2,window_size)\n",
    "\n",
    "# Calculate differences in smoothed x and y\n",
    "dxs = np.diff(an1s[:,0])\n",
    "dys = np.diff(an1s[:,1])\n",
    "distancess = np.sqrt(dxs**2 + dys**2)\n",
    "\n",
    "plt.plot(distancess[:300])"
   ]
  },
  {
   "cell_type": "code",
   "execution_count": null,
   "id": "33c18f56-1cfe-4c70-a3fb-b62ba0b49cf7",
   "metadata": {
    "tags": []
   },
   "outputs": [],
   "source": [
    "# bonus task: generate a plot that superimposes the result for several values of the parameter.\n",
    "# hint, use a loop over multiple values. If you plot within a loop, the lines will be plotted in the same graph.\n",
    "\n",
    "#your answer:\n",
    "\n",
    "for i in range(5):\n"
   ]
  },
  {
   "cell_type": "code",
   "execution_count": null,
   "id": "fe56f389-b8c8-43a3-b19c-d325f7c56f0e",
   "metadata": {
    "tags": []
   },
   "outputs": [],
   "source": [
    "# %load ./snippets/solution3.py\n",
    "#uncomment above to load a solution\n"
   ]
  },
  {
   "cell_type": "code",
   "execution_count": null,
   "id": "93d30dc7-0974-407e-9b86-fc0cee929e3d",
   "metadata": {
    "tags": []
   },
   "outputs": [],
   "source": [
    "#now we can re-compute the heading using the smoothed trajectory. What do you notice?\n",
    "#try plotting the original head and smoothed heading on top of each other.\n",
    "\n",
    "headingss = np.arctan2(dys, dxs)\n",
    "\n",
    "plt.plot(headings[:300],'r')\n",
    "plt.plot(headingss[:300])"
   ]
  },
  {
   "cell_type": "markdown",
   "id": "1d15ac5a-ba15-4f36-addc-b6e65581eb52",
   "metadata": {},
   "source": [
    "# 2. compute position of animal 2, relative to animal 1\n",
    "\n",
    "- this is very simple, any ideas?"
   ]
  },
  {
   "cell_type": "code",
   "execution_count": null,
   "id": "cde36f8e-303f-472d-8c25-0f8e8cbac43d",
   "metadata": {
    "tags": []
   },
   "outputs": [],
   "source": [
    "\n",
    "relativePos="
   ]
  },
  {
   "cell_type": "code",
   "execution_count": null,
   "id": "f9c38288-2f3c-41a8-8a65-3eab05a790d9",
   "metadata": {
    "tags": []
   },
   "outputs": [],
   "source": [
    "# %load ./snippets/solution4.py\n",
    "#uncomment above to load a solution\n"
   ]
  },
  {
   "cell_type": "markdown",
   "id": "5cfed56d-05c2-4e11-88ab-97dc261d0a1a",
   "metadata": {},
   "source": [
    "# 3. rotate relative positions such that animal 1 always heads up -> relativePosRot\n",
    "\n",
    "- now it gets a bit more interesting:\n",
    "1. transform the relative positions to polar coordinates\n",
    "2. then, remember how can you rotate the fish up?\n",
    "\n",
    "- below are two helper functions to transform coordinates from cartesian to polar and back."
   ]
  },
  {
   "cell_type": "code",
   "execution_count": null,
   "id": "6ae7ea28-2bed-4b7f-acf0-eabc7fbc357d",
   "metadata": {
    "tags": []
   },
   "outputs": [],
   "source": [
    "def cart2pol(x, y): #transform from cartesian to polar\n",
    "    theta = np.arctan2(y, x)\n",
    "    rho = np.hypot(x, y)\n",
    "    return theta, rho"
   ]
  },
  {
   "cell_type": "code",
   "execution_count": null,
   "id": "330116b5-d7a4-4397-8d45-2f37c824693a",
   "metadata": {
    "tags": []
   },
   "outputs": [],
   "source": [
    "def pol2cart(theta, rho): #transform from polar to cartesian\n",
    "    x = rho * np.cos(theta)\n",
    "    y = rho * np.sin(theta)\n",
    "    return x, y"
   ]
  },
  {
   "cell_type": "code",
   "execution_count": null,
   "id": "d3c954de-08a2-46f0-a07d-e3cd8c5efbf1",
   "metadata": {
    "tags": []
   },
   "outputs": [],
   "source": [
    "\n",
    "#first, transform relative positions from cartesian to polar\n",
    "relativePos_pol=\n",
    "print('Polar coordinates: ',relativePos_pol)\n",
    "\n",
    "#now do the rotation.\n",
    "#hint: you have to combine the polar coordinates with the headings.\n",
    "#but there is a catch: the vectors don't have the same length. remember why?\n",
    "#just drop the last position. to use all of a vector except the last entry, use this index: v[:-1]\n",
    "\n",
    "relativePos_pol_rot=\n",
    "print('Polar coordinates rotated: ', relativePos_pol_rot)\n",
    "\n",
    "#the result should be this:\n",
    "\n",
    "#Polar coordinates:  (array([0.33415415, 0.32949056, 0.32485253, ..., 2.53836832, 2.53872638,\n",
    "#       2.53916742]), array([302.1981665 , 303.03401754, 303.89539654, ..., 198.86808196,\n",
    "#       198.91860357, 199.07792124]))\n",
    "#Polar coordinates rotated:  [-2.08434974 -2.09999897 -2.26379046 ...  2.64314516  2.62977952\n",
    "#  2.63689466]"
   ]
  },
  {
   "cell_type": "code",
   "execution_count": null,
   "id": "1c5471cd-7996-4ade-9603-9972dade0a2e",
   "metadata": {
    "tags": []
   },
   "outputs": [],
   "source": [
    "# %load ./snippets/solution5.py\n",
    "#uncomment above to load a solution\n"
   ]
  },
  {
   "cell_type": "code",
   "execution_count": null,
   "id": "ec6ea109-4b89-4044-a509-c63043447e10",
   "metadata": {
    "tags": []
   },
   "outputs": [],
   "source": [
    "#finally, we bring the coordinates back to cartesian for plotting\n",
    "#again, pay attention to the different lengths of the relevant vectors. we drop the last item where necessary\n",
    "\n",
    "relativePos_pol_rot_cart=pol2cart(relativePos_pol_rot,relativePos_pol[1][:-1])\n",
    "print(relativePos_pol_rot_cart)"
   ]
  },
  {
   "cell_type": "markdown",
   "id": "c62922f7-2733-4c82-bb2b-e570b1093087",
   "metadata": {},
   "source": [
    "oof, after some mental acrobatics, we are done with the heavy-lifting! Finally on to the fun part!"
   ]
  },
  {
   "cell_type": "markdown",
   "id": "15b4514d-c528-472b-85c9-7ee05e05c2db",
   "metadata": {},
   "source": [
    "# 4. plot rotated position to reveal neighborhood map"
   ]
  },
  {
   "cell_type": "markdown",
   "id": "2ff4b45c-212b-4e69-946c-654d263d19fc",
   "metadata": {
    "execution": {
     "iopub.execute_input": "2024-03-05T12:26:19.698291Z",
     "iopub.status.busy": "2024-03-05T12:26:19.697155Z",
     "iopub.status.idle": "2024-03-05T12:26:19.709379Z",
     "shell.execute_reply": "2024-03-05T12:26:19.706918Z",
     "shell.execute_reply.started": "2024-03-05T12:26:19.698221Z"
    },
    "tags": []
   },
   "source": [
    "- new that you have animal 2 in the egocentric coodinates of animal 1, how can you plot them?\n",
    "- thinking back to our earlier sessions, consider these options:\n",
    "1. plt.scatter hint: play with size (s) and alpha parameters for a pretty map!\n",
    "2. np.histogram2d which will generate a heatmap image (google for examples)"
   ]
  },
  {
   "cell_type": "code",
   "execution_count": null,
   "id": "6a5b82de-3d33-428f-91d4-be57ceb12717",
   "metadata": {
    "tags": []
   },
   "outputs": [],
   "source": [
    "#find good parameters to scatter to reveal the neighborhood map!\n",
    "plt.scatter(,s=,alpha=)\n",
    "plt.gca().set_aspect('equal')\n",
    "plt.axhline(0,ls=':',c='gray') #some pretty visual guides\n",
    "plt.axvline(0,ls=':',c='gray')\n"
   ]
  },
  {
   "cell_type": "code",
   "execution_count": null,
   "id": "cd32d569-f54c-4fb2-88ab-257110d70c40",
   "metadata": {
    "tags": []
   },
   "outputs": [],
   "source": [
    "heatmap, xedges, yedges = np.histogram2d() #google the docs to understand the parameters\n",
    "plt.imshow(heatmap) #plot the heatmap"
   ]
  },
  {
   "cell_type": "code",
   "execution_count": null,
   "id": "123851e2-bfac-45ad-851f-b9af226c2c0a",
   "metadata": {
    "tags": []
   },
   "outputs": [],
   "source": [
    "# %load ./snippets/solution6.py\n",
    "#uncomment above to load a solution\n"
   ]
  },
  {
   "cell_type": "markdown",
   "id": "afb7a039-c194-48cb-9f29-2721c5126005",
   "metadata": {},
   "source": [
    "Voila, congratulations! you can clearly see where animal 1 prefers to position itself relative to animal 2.\n",
    "\n",
    "Do you notice a difference in orientation between the heatmap and the scatterplot?\n",
    "\n",
    "You can read about the definition of polar coordinates and the orientation of the data in python image plots vs. data plots online. (notice the x,y axis labels on the image plots?\n",
    "\n",
    "Below is a dummy trajectory for movements in the four cardinal directions. You can get a sense how they are transformed into heading in radians and degrees."
   ]
  },
  {
   "cell_type": "code",
   "execution_count": null,
   "id": "91f2c597-4849-4010-b83b-494b901f6a45",
   "metadata": {
    "tags": []
   },
   "outputs": [],
   "source": [
    "testTra=np.array([[0,0],[0,1],[1,1],[1,0],[0,0]])\n",
    "testTra"
   ]
  },
  {
   "cell_type": "code",
   "execution_count": null,
   "id": "06870e62-fe03-4ffd-b34a-4617f61c70e5",
   "metadata": {
    "tags": []
   },
   "outputs": [],
   "source": [
    "testTra_d=np.squeeze(np.diff(testTra,axis=0))\n",
    "testTra_d"
   ]
  },
  {
   "cell_type": "code",
   "execution_count": null,
   "id": "d6e0f8b9-8004-4659-a704-c8c9132b7e2e",
   "metadata": {
    "tags": []
   },
   "outputs": [],
   "source": [
    "testTra_h = np.arctan2(testTra_d[:,1], testTra_d[:,0])\n",
    "testTra_h"
   ]
  },
  {
   "cell_type": "code",
   "execution_count": null,
   "id": "0fbe9af6-bddf-469a-9952-85046ab84b51",
   "metadata": {
    "tags": []
   },
   "outputs": [],
   "source": [
    "np.rad2deg(testTra_h)"
   ]
  },
  {
   "cell_type": "code",
   "execution_count": null,
   "id": "1e61f1f7-1ac5-4761-ae89-140797bc6544",
   "metadata": {
    "tags": []
   },
   "outputs": [],
   "source": [
    "# %load ./snippets/solution1.py\n",
    "np.rad2deg(testTra_h)"
   ]
  },
  {
   "cell_type": "code",
   "execution_count": null,
   "id": "b1d3486b-f926-463d-89cb-631b01d74d82",
   "metadata": {},
   "outputs": [],
   "source": []
  }
 ],
 "metadata": {
  "kernelspec": {
   "display_name": "Python3",
   "language": "python",
   "name": "python3"
  },
  "language_info": {
   "codemirror_mode": {
    "name": "ipython",
    "version": 3
   },
   "file_extension": ".py",
   "mimetype": "text/x-python",
   "name": "python",
   "nbconvert_exporter": "python",
   "pygments_lexer": "ipython3",
   "version": "3.11.5"
  }
 },
 "nbformat": 4,
 "nbformat_minor": 5
}
